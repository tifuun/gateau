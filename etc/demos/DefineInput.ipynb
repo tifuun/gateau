{
 "cells": [
  {
   "cell_type": "markdown",
   "id": "b2f05aca-6f12-4b9a-82ab-b93200117b53",
   "metadata": {},
   "source": [
    "# Defining input for ```TiEMPO2``` simulations"
   ]
  },
  {
   "cell_type": "markdown",
   "id": "d615fce1-8136-48f4-be63-1fe682e28999",
   "metadata": {},
   "source": [
    "Because of the "
   ]
  }
 ],
 "metadata": {
  "kernelspec": {
   "display_name": "Python 3 (ipykernel)",
   "language": "python",
   "name": "python3"
  },
  "language_info": {
   "codemirror_mode": {
    "name": "ipython",
    "version": 3
   },
   "file_extension": ".py",
   "mimetype": "text/x-python",
   "name": "python",
   "nbconvert_exporter": "python",
   "pygments_lexer": "ipython3",
   "version": "3.11.2"
  }
 },
 "nbformat": 4,
 "nbformat_minor": 5
}
